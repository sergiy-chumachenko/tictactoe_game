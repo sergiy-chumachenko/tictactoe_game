{
 "cells": [
  {
   "cell_type": "markdown",
   "metadata": {},
   "source": [
    "# Tic-Tac-Toe Game. Let's play!"
   ]
  },
  {
   "cell_type": "code",
   "execution_count": 130,
   "metadata": {},
   "outputs": [],
   "source": [
    "from IPython.display import clear_output\n",
    "\n",
    "def display_board(board):\n",
    "    clear_output()\n",
    "    print(\"|------------------------------------------------------|\")\n",
    "    print(\"|  Step positions |                  |    PlayBoard    |\")\n",
    "    print(\"|-----|-----|-----|                  |-----|-----|-----|\")\n",
    "    print(\"|     |     |     |                  |     |     |     |\\n|  1  |  2  |  3  |                  |  \" + board[1] + \"  |  \" + board[2] + \"  |  \" + board[3] + \"  |\\n\" + \"|     |     |     |                  |     |     |     |\")\n",
    "    print(\"|-----|-----|-----|                  |-----|-----|-----|\")\n",
    "    print(\"|     |     |     |                  |     |     |     |\\n|  4  |  5  |  6  |                  |  \" + board[4] + \"  |  \" + board[5] + \"  |  \" + board[6] + \"  |\\n\" + \"|     |     |     |                  |     |     |     |\")\n",
    "    print(\"|-----|-----|-----|                  |-----|-----|-----|\")\n",
    "    print(\"|     |     |     |                  |     |     |     |\\n|  7  |  8  |  9  |                  |  \" + board[7] + \"  |  \" + board[8] + \"  |  \" + board[9] + \"  |\\n\" + \"|     |     |     |                  |     |     |     |\")\n",
    "    print(\"|------------------------------------------------------|\")"
   ]
  },
  {
   "cell_type": "code",
   "execution_count": 131,
   "metadata": {},
   "outputs": [
    {
     "name": "stdout",
     "output_type": "stream",
     "text": [
      "|------------------------------------------------------|\n",
      "|  Step positions |                  |    PlayBoard    |\n",
      "|-----|-----|-----|                  |-----|-----|-----|\n",
      "|     |     |     |                  |     |     |     |\n",
      "|  1  |  2  |  3  |                  |  X  |  O  |  X  |\n",
      "|     |     |     |                  |     |     |     |\n",
      "|-----|-----|-----|                  |-----|-----|-----|\n",
      "|     |     |     |                  |     |     |     |\n",
      "|  4  |  5  |  6  |                  |  X  |  O  |  O  |\n",
      "|     |     |     |                  |     |     |     |\n",
      "|-----|-----|-----|                  |-----|-----|-----|\n",
      "|     |     |     |                  |     |     |     |\n",
      "|  7  |  8  |  9  |                  |  O  |  X  |  X  |\n",
      "|     |     |     |                  |     |     |     |\n",
      "|------------------------------------------------------|\n"
     ]
    }
   ],
   "source": [
    "test_board = [\"#\",\"X\",\"O\",\"X\",\"X\",\"O\",\"O\",\"O\",\"X\",\"X\"]\n",
    "display_board(test_board)"
   ]
  },
  {
   "cell_type": "code",
   "execution_count": 113,
   "metadata": {},
   "outputs": [],
   "source": [
    "def player_input():\n",
    "    markers = [\"X\", \"O\"]\n",
    "    p1_marker, p2_marker = '',''\n",
    "    while True:\n",
    "        p1_marker = input(\"Player 1 Chouse 'X' or 'O' ???\\n\").upper()\n",
    "        if p1_marker in markers:\n",
    "            break\n",
    "        else:\n",
    "            print(\"You can choose only 'X' or 'O'!!!\\n\")\n",
    "    if p1_marker == \"X\":\n",
    "        p2_marker = \"O\"\n",
    "    else:\n",
    "        p2_marker = \"X\"\n",
    "    return (p1_marker, p2_marker)\n"
   ]
  },
  {
   "cell_type": "code",
   "execution_count": 117,
   "metadata": {},
   "outputs": [
    {
     "name": "stdout",
     "output_type": "stream",
     "text": [
      "Player 1 Chouse 'X' or 'O' ???\n",
      "O\n"
     ]
    }
   ],
   "source": [
    "p1, p2 = player_input()"
   ]
  },
  {
   "cell_type": "code",
   "execution_count": 132,
   "metadata": {},
   "outputs": [],
   "source": [
    "new_board = ['#',' ',' ',' ',' ',' ',' ',' ',' ',' ',]"
   ]
  },
  {
   "cell_type": "code",
   "execution_count": 39,
   "metadata": {},
   "outputs": [],
   "source": [
    "def place_marker(board, marker, position):\n",
    "    board[int(position)] = marker\n",
    "    return board"
   ]
  },
  {
   "cell_type": "code",
   "execution_count": 66,
   "metadata": {},
   "outputs": [],
   "source": [
    "def win_check(board, mark):\n",
    "    display_board(board)\n",
    "    if all( item == mark for item in board[1:4]) \\\n",
    "        or all(item == mark for item in board[4:7]) or all(item == mark for item in board[7:10]) \\\n",
    "        or all(item == mark for item in [board[1], board[5], board[9]])\\\n",
    "        or all(item == mark for item in [board[3], board[5], board[7]]):\n",
    "            return True\n",
    "    else:\n",
    "        return False"
   ]
  },
  {
   "cell_type": "code",
   "execution_count": 67,
   "metadata": {},
   "outputs": [
    {
     "name": "stdout",
     "output_type": "stream",
     "text": [
      "|------------------------------------------------------|\n",
      "|  Step positions |                  |    PlayBoard    |\n",
      "|-----|-----|-----|                  |-----|-----|-----|\n",
      "|     |     |     |                  |     |     |     |\n",
      "|  1  |  2  |  3  |                  |  X  |  O  |  X  |\n",
      "|     |     |     |                  |     |     |     |\n",
      "|-----|-----|-----|                  |-----|-----|-----|\n",
      "|     |     |     |                  |     |     |     |\n",
      "|  4  |  5  |  6  |                  |  X  |  O  |  O  |\n",
      "|     |     |     |                  |     |     |     |\n",
      "|-----|-----|-----|                  |-----|-----|-----|\n",
      "|     |     |     |                  |     |     |     |\n",
      "|  7  |  8  |  9  |                  |  O  |  X  |  X  |\n",
      "|     |     |     |                  |     |     |     |\n",
      "|------------------------------------------------------|\n"
     ]
    },
    {
     "data": {
      "text/plain": [
       "False"
      ]
     },
     "execution_count": 67,
     "metadata": {},
     "output_type": "execute_result"
    }
   ],
   "source": [
    "win_check(test_board,'X')"
   ]
  },
  {
   "cell_type": "code",
   "execution_count": 86,
   "metadata": {},
   "outputs": [],
   "source": [
    "import random\n",
    "def choose_first(p1, p2):\n",
    "    if random.randint(1,2) == 1:\n",
    "        first, second = p1,p2\n",
    "    else:\n",
    "        first, second = p2,p1\n",
    "    return (first, second)"
   ]
  },
  {
   "cell_type": "code",
   "execution_count": 77,
   "metadata": {},
   "outputs": [],
   "source": [
    "def space_check(board, position):\n",
    "    return board[position] == ' '"
   ]
  },
  {
   "cell_type": "code",
   "execution_count": 78,
   "metadata": {},
   "outputs": [],
   "source": [
    "def full_board_check(board):\n",
    "    return True if '' in board else False"
   ]
  },
  {
   "cell_type": "code",
   "execution_count": 121,
   "metadata": {},
   "outputs": [],
   "source": [
    "def player_choice(board):\n",
    "    while True:\n",
    "        choice = int(input(\"What's your choice???\"))\n",
    "        if choice in range(1, 10) and space_check(board, choice):\n",
    "            break\n",
    "        else:\n",
    "            print('Your choice is incorrect! Try one more time!')\n",
    "    else:\n",
    "        return choice"
   ]
  },
  {
   "cell_type": "code",
   "execution_count": 81,
   "metadata": {},
   "outputs": [],
   "source": [
    "def replay():\n",
    "    while True:\n",
    "        replay = input(\"Play again? Yes/No?\")\n",
    "        if replay.lower() == 'yes':\n",
    "            return True\n",
    "        elif replay.lower() == 'no':\n",
    "            return False\n",
    "        else:\n",
    "            print(\"Use Only Yes or No???\")"
   ]
  },
  {
   "cell_type": "code",
   "execution_count": null,
   "metadata": {},
   "outputs": [
    {
     "name": "stdout",
     "output_type": "stream",
     "text": [
      "|------------------------------------------------------|\n",
      "|  Step positions |                  |    PlayBoard    |\n",
      "|-----|-----|-----|                  |-----|-----|-----|\n",
      "|     |     |     |                  |     |     |     |\n",
      "|  1  |  2  |  3  |                  |     |     |     |\n",
      "|     |     |     |                  |     |     |     |\n",
      "|-----|-----|-----|                  |-----|-----|-----|\n",
      "|     |     |     |                  |     |     |     |\n",
      "|  4  |  5  |  6  |                  |     |     |     |\n",
      "|     |     |     |                  |     |     |     |\n",
      "|-----|-----|-----|                  |-----|-----|-----|\n",
      "|     |     |     |                  |     |     |     |\n",
      "|  7  |  8  |  9  |                  |     |     |     |\n",
      "|     |     |     |                  |     |     |     |\n",
      "|------------------------------------------------------|\n",
      "Player 1: O Turn!\n"
     ]
    }
   ],
   "source": [
    "print('Welcome to Tic Tac Toe!')\n",
    "board = new_board\n",
    "while True:\n",
    "    p1, p2 = player_input()\n",
    "    first, second = choose_first(p1,p2)\n",
    "    while True:\n",
    "        display_board(board)\n",
    "        print(\"Player 1: {} Turn!\".format(first))\n",
    "        break\n",
    "        \n",
    "# #         Player2's turn.\n",
    "            \n",
    "# #             pa\n",
    "\n",
    "\n",
    "#     if not replay():\n",
    "#         break"
   ]
  },
  {
   "cell_type": "code",
   "execution_count": null,
   "metadata": {},
   "outputs": [],
   "source": []
  },
  {
   "cell_type": "code",
   "execution_count": null,
   "metadata": {},
   "outputs": [],
   "source": []
  },
  {
   "cell_type": "code",
   "execution_count": null,
   "metadata": {},
   "outputs": [],
   "source": []
  },
  {
   "cell_type": "code",
   "execution_count": null,
   "metadata": {},
   "outputs": [],
   "source": []
  },
  {
   "cell_type": "code",
   "execution_count": null,
   "metadata": {},
   "outputs": [],
   "source": []
  },
  {
   "cell_type": "code",
   "execution_count": null,
   "metadata": {},
   "outputs": [],
   "source": []
  },
  {
   "cell_type": "code",
   "execution_count": null,
   "metadata": {},
   "outputs": [],
   "source": []
  }
 ],
 "metadata": {
  "kernelspec": {
   "display_name": "Python 3",
   "language": "python",
   "name": "python3"
  },
  "language_info": {
   "codemirror_mode": {
    "name": "ipython",
    "version": 3
   },
   "file_extension": ".py",
   "mimetype": "text/x-python",
   "name": "python",
   "nbconvert_exporter": "python",
   "pygments_lexer": "ipython3",
   "version": "3.6.3"
  }
 },
 "nbformat": 4,
 "nbformat_minor": 2
}
