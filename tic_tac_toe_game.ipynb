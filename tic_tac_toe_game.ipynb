{
 "cells": [
  {
   "cell_type": "markdown",
   "metadata": {},
   "source": [
    "# Tic Tac Toe Milestone Project game!"
   ]
  },
  {
   "cell_type": "code",
   "execution_count": 30,
   "metadata": {},
   "outputs": [],
   "source": [
    "from IPython.display import clear_output\n",
    "\n",
    "def display_board(board):\n",
    "    print(\"|-----|-----|-----|\")\n",
    "    print(\"|     |     |     |\\n|  \" + board[1] + \"  |  \" + board[2] + \"  |  \" + board[3] + \"  |\\n\" + \"|     |     |     |\")\n",
    "    print(\"|-----|-----|-----|\")\n",
    "    print(\"|     |     |     |\\n|  \" + board[4] + \"  |  \" + board[5] + \"  |  \" + board[6] + \"  |\\n\" + \"|     |     |     |\")\n",
    "    print(\"|-----|-----|-----|\")\n",
    "    print(\"|     |     |     |\\n|  \" + board[7] + \"  |  \" + board[8] + \"  |  \" + board[9] + \"  |\\n\" + \"|     |     |     |\")\n",
    "    print(\"|-----|-----|-----|\")"
   ]
  },
  {
   "cell_type": "code",
   "execution_count": 31,
   "metadata": {},
   "outputs": [
    {
     "name": "stdout",
     "output_type": "stream",
     "text": [
      "|-----|-----|-----|\n",
      "|     |     |     |\n",
      "|  X  |  O  |  X  |\n",
      "|     |     |     |\n",
      "|-----|-----|-----|\n",
      "|     |     |     |\n",
      "|  X  |  O  |  O  |\n",
      "|     |     |     |\n",
      "|-----|-----|-----|\n",
      "|     |     |     |\n",
      "|  O  |  X  |  X  |\n",
      "|     |     |     |\n",
      "|-----|-----|-----|\n"
     ]
    }
   ],
   "source": [
    "test_board = [\"#\",\"X\",\"O\",\"X\",\"X\",\"O\",\"O\",\"O\",\"X\",\"X\"]\n",
    "display_board(test_board)"
   ]
  },
  {
   "cell_type": "code",
   "execution_count": 45,
   "metadata": {},
   "outputs": [],
   "source": [
    "def player_input():\n",
    "    markers = [\"X\", \"O\"]\n",
    "    p1_marker, p2_marker = '',''\n",
    "    while True:\n",
    "        p1_marker = input(\"Player 1 Chouse 'X' or 'O' ???\\n\").upper()\n",
    "        if p1_marker in markers:\n",
    "            break\n",
    "        else:\n",
    "            print(\"You can choose only 'X' or 'O'!!!\\n\")\n",
    "    else:\n",
    "        if p1_marker == \"X\":\n",
    "            p2_marker = \"O\"\n",
    "        else:\n",
    "            p2_marker = \"X\"\n",
    "    return (p1_marker, p2_marker)\n"
   ]
  },
  {
   "cell_type": "code",
   "execution_count": 46,
   "metadata": {},
   "outputs": [
    {
     "name": "stdout",
     "output_type": "stream",
     "text": [
      "Player 1 Chouse 'X' or 'O' ???\n",
      "f\n",
      "You can choose only 'X' or 'O'!!!\n",
      "\n",
      "Player 1 Chouse 'X' or 'O' ???\n",
      "d\n",
      "You can choose only 'X' or 'O'!!!\n",
      "\n",
      "Player 1 Chouse 'X' or 'O' ???\n",
      "e\n",
      "You can choose only 'X' or 'O'!!!\n",
      "\n",
      "Player 1 Chouse 'X' or 'O' ???\n",
      "x\n"
     ]
    }
   ],
   "source": [
    "p1, p2 = player_input()"
   ]
  },
  {
   "cell_type": "code",
   "execution_count": 47,
   "metadata": {},
   "outputs": [
    {
     "data": {
      "text/plain": [
       "'X'"
      ]
     },
     "execution_count": 47,
     "metadata": {},
     "output_type": "execute_result"
    }
   ],
   "source": [
    "p1"
   ]
  },
  {
   "cell_type": "code",
   "execution_count": null,
   "metadata": {},
   "outputs": [],
   "source": []
  },
  {
   "cell_type": "code",
   "execution_count": null,
   "metadata": {},
   "outputs": [],
   "source": []
  },
  {
   "cell_type": "code",
   "execution_count": null,
   "metadata": {},
   "outputs": [],
   "source": []
  },
  {
   "cell_type": "code",
   "execution_count": null,
   "metadata": {},
   "outputs": [],
   "source": []
  },
  {
   "cell_type": "code",
   "execution_count": null,
   "metadata": {},
   "outputs": [],
   "source": []
  }
 ],
 "metadata": {
  "kernelspec": {
   "display_name": "Python 3",
   "language": "python",
   "name": "python3"
  },
  "language_info": {
   "codemirror_mode": {
    "name": "ipython",
    "version": 3
   },
   "file_extension": ".py",
   "mimetype": "text/x-python",
   "name": "python",
   "nbconvert_exporter": "python",
   "pygments_lexer": "ipython3",
   "version": "3.6.3"
  }
 },
 "nbformat": 4,
 "nbformat_minor": 2
}
