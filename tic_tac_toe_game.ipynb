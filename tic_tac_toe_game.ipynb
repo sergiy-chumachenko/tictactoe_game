{
 "cells": [
  {
   "cell_type": "markdown",
   "metadata": {},
   "source": [
    "# Tic-Tac-Toe Game. Let's play!"
   ]
  },
  {
   "cell_type": "code",
   "execution_count": 5,
   "metadata": {},
   "outputs": [],
   "source": [
    "from IPython.display import clear_output\n",
    "\n",
    "def display_board(board):\n",
    "    clear_output()\n",
    "    print(\"|------------------------------------------------------|\")\n",
    "    print(\"|  Step positions |                  |    PlayBoard    |\")\n",
    "    print(\"|-----|-----|-----|                  |-----|-----|-----|\")\n",
    "    print(\"|     |     |     |                  |     |     |     |\\n|  1  |  2  |  3  |                  |  \" + board[1] + \"  |  \" + board[2] + \"  |  \" + board[3] + \"  |\\n\" + \"|     |     |     |                  |     |     |     |\")\n",
    "    print(\"|-----|-----|-----|                  |-----|-----|-----|\")\n",
    "    print(\"|     |     |     |                  |     |     |     |\\n|  4  |  5  |  6  |                  |  \" + board[4] + \"  |  \" + board[5] + \"  |  \" + board[6] + \"  |\\n\" + \"|     |     |     |                  |     |     |     |\")\n",
    "    print(\"|-----|-----|-----|                  |-----|-----|-----|\")\n",
    "    print(\"|     |     |     |                  |     |     |     |\\n|  7  |  8  |  9  |                  |  \" + board[7] + \"  |  \" + board[8] + \"  |  \" + board[9] + \"  |\\n\" + \"|     |     |     |                  |     |     |     |\")\n",
    "    print(\"|------------------------------------------------------|\")"
   ]
  },
  {
   "cell_type": "code",
   "execution_count": 19,
   "metadata": {},
   "outputs": [],
   "source": [
    "def player_input():\n",
    "    markers = [\"X\", \"O\"]\n",
    "    marker = ''\n",
    "    while not (marker == 'X' or marker == 'O'):\n",
    "        marker = input(\"Player 1 Chouse 'X' or 'O' ???\\n\").upper()\n",
    "        if marker in markers:\n",
    "            break\n",
    "        else:\n",
    "            print(\"You can choose only 'X' or 'O'!!!\\n\")\n",
    "    if marker == \"X\":\n",
    "        return ('X', 'O')\n",
    "    else:\n",
    "        return ('O', 'X')\n"
   ]
  },
  {
   "cell_type": "code",
   "execution_count": 21,
   "metadata": {},
   "outputs": [],
   "source": [
    "def place_marker(board, marker, position):\n",
    "    board[int(position)] = marker"
   ]
  },
  {
   "cell_type": "code",
   "execution_count": 22,
   "metadata": {},
   "outputs": [],
   "source": [
    "def win_check(board, mark):\n",
    "    display_board(board)\n",
    "    if all( item == mark for item in board[1:4]) \\\n",
    "        or all(item == mark for item in board[4:7]) \\\n",
    "        or all(item == mark for item in board[7:10]):\n",
    "            return True\n",
    "    elif all(item == mark for item in [board[1], board[4], board[7]]) \\\n",
    "        or all(item == mark for item in [board[2], board[5], board[8]]) \\\n",
    "        or all(item == mark for item in [board[3], board[6], board[9]]):\n",
    "            return True\n",
    "    elif all(item == mark for item in [board[1], board[5], board[9]]) \\\n",
    "        or all(item == mark for item in [board[3], board[5], board[7]]):\n",
    "            return True\n",
    "    else:\n",
    "        return False"
   ]
  },
  {
   "cell_type": "code",
   "execution_count": 23,
   "metadata": {},
   "outputs": [],
   "source": [
    "import random\n",
    "def choose_first(p1, p2):\n",
    "    if random.randint(1,2) == 1:\n",
    "        return (p1,p2)\n",
    "    else:\n",
    "        return (p2,p1)"
   ]
  },
  {
   "cell_type": "code",
   "execution_count": 24,
   "metadata": {},
   "outputs": [],
   "source": [
    "def space_check(board, position):\n",
    "    return board[position] == ' '"
   ]
  },
  {
   "cell_type": "code",
   "execution_count": 11,
   "metadata": {},
   "outputs": [],
   "source": [
    "def full_board_check(board):\n",
    "    return ' ' in board "
   ]
  },
  {
   "cell_type": "code",
   "execution_count": 25,
   "metadata": {},
   "outputs": [],
   "source": [
    "def player_choice(board):\n",
    "    position = 0\n",
    "    while position not in range(1,10) or not space_check(board, position):\n",
    "        position = int(input(\"Choose a position: (1-9)\" + \"\\n\"))\n",
    "    return position"
   ]
  },
  {
   "cell_type": "code",
   "execution_count": 55,
   "metadata": {},
   "outputs": [],
   "source": [
    "def replay():\n",
    "    choice = None\n",
    "    while not (choice == 'Yes' or choice == 'No'):\n",
    "        choice = input(\"Play again? Yes/No?\\n\")\n",
    "    return choice == \"Yes\""
   ]
  },
  {
   "cell_type": "code",
   "execution_count": 60,
   "metadata": {},
   "outputs": [],
   "source": [
    "def game():\n",
    "    print('Welcome to Tic Tac Toe!')\n",
    "    while True:\n",
    "        \"Let's begin!\"\n",
    "        board = ['#',' ',' ',' ',' ',' ',' ',' ',' ',' ',]\n",
    "        p1, p2 = player_input()\n",
    "        first, second = choose_first(p1,p2)\n",
    "        status = 0\n",
    "        while status == 0:\n",
    "            for player in first, second:\n",
    "                if full_board_check(board):\n",
    "                    print(\"Player: {} Turn!\".format(player))\n",
    "                    position = player_choice(board)\n",
    "                    place_marker(board, player, position)\n",
    "                    if win_check(board, player):\n",
    "                        print('Player: {} Won the Game!'.format(player))\n",
    "                        status = 1\n",
    "                        break\n",
    "                else:\n",
    "                    print('Dead Heat!')\n",
    "                    status = 1\n",
    "                    break\n",
    "        else:\n",
    "            print(\"Game Over\")\n",
    "            if not replay():\n",
    "                print(\"GoodBye\")\n",
    "                break"
   ]
  },
  {
   "cell_type": "code",
   "execution_count": 61,
   "metadata": {},
   "outputs": [
    {
     "name": "stdout",
     "output_type": "stream",
     "text": [
      "|------------------------------------------------------|\n",
      "|  Step positions |                  |    PlayBoard    |\n",
      "|-----|-----|-----|                  |-----|-----|-----|\n",
      "|     |     |     |                  |     |     |     |\n",
      "|  1  |  2  |  3  |                  |  X  |  O  |  X  |\n",
      "|     |     |     |                  |     |     |     |\n",
      "|-----|-----|-----|                  |-----|-----|-----|\n",
      "|     |     |     |                  |     |     |     |\n",
      "|  4  |  5  |  6  |                  |  O  |  X  |  O  |\n",
      "|     |     |     |                  |     |     |     |\n",
      "|-----|-----|-----|                  |-----|-----|-----|\n",
      "|     |     |     |                  |     |     |     |\n",
      "|  7  |  8  |  9  |                  |  X  |     |     |\n",
      "|     |     |     |                  |     |     |     |\n",
      "|------------------------------------------------------|\n",
      "Player: X Won the Game!\n",
      "Game Over\n",
      "Play again? Yes/No?\n",
      "8\n",
      "Play again? Yes/No?\n",
      "No\n",
      "GoodBye\n"
     ]
    }
   ],
   "source": [
    "game()"
   ]
  }
 ],
 "metadata": {
  "kernelspec": {
   "display_name": "Python 3",
   "language": "python",
   "name": "python3"
  },
  "language_info": {
   "codemirror_mode": {
    "name": "ipython",
    "version": 3
   },
   "file_extension": ".py",
   "mimetype": "text/x-python",
   "name": "python",
   "nbconvert_exporter": "python",
   "pygments_lexer": "ipython3",
   "version": "3.6.3"
  }
 },
 "nbformat": 4,
 "nbformat_minor": 2
}
